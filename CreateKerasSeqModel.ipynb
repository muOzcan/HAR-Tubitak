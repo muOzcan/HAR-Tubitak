{
 "cells": [
  {
   "cell_type": "code",
   "execution_count": 1,
   "id": "8e2a0c91-460f-4a33-860d-b4778b1f76e9",
   "metadata": {},
   "outputs": [],
   "source": [
    "import pandas as pd\n",
    "import tensorflow as tf\n",
    "from sklearn.preprocessing import LabelEncoder, StandardScaler\n",
    "from sklearn.model_selection import train_test_split\n",
    "from keras.models import Sequential\n",
    "from keras.layers import Dense, Input\n",
    "from sklearn.metrics import classification_report, confusion_matrix\n",
    "import numpy as np\n",
    "import csv\n",
    "import joblib"
   ]
  },
  {
   "cell_type": "code",
   "execution_count": 3,
   "id": "3b91fb81-1df0-4a94-889c-598b26bafd6b",
   "metadata": {},
   "outputs": [],
   "source": [
    "# Veri yükleme\n",
    "file_path = 'C:/Users/musta/OneDrive/Masaüstü/HAR Updates/HAR_Data/Augmented_Labeled_Data.csv'\n",
    "data = pd.read_csv(file_path)"
   ]
  },
  {
   "cell_type": "code",
   "execution_count": 3,
   "id": "89db3c89-82b9-4d85-8720-70c950aae4fa",
   "metadata": {
    "scrolled": true
   },
   "outputs": [
    {
     "data": {
      "text/html": [
       "<div>\n",
       "<style scoped>\n",
       "    .dataframe tbody tr th:only-of-type {\n",
       "        vertical-align: middle;\n",
       "    }\n",
       "\n",
       "    .dataframe tbody tr th {\n",
       "        vertical-align: top;\n",
       "    }\n",
       "\n",
       "    .dataframe thead th {\n",
       "        text-align: right;\n",
       "    }\n",
       "</style>\n",
       "<table border=\"1\" class=\"dataframe\">\n",
       "  <thead>\n",
       "    <tr style=\"text-align: right;\">\n",
       "      <th></th>\n",
       "      <th>AccX</th>\n",
       "      <th>AccY</th>\n",
       "      <th>AccZ</th>\n",
       "      <th>GyroX</th>\n",
       "      <th>GyroY</th>\n",
       "      <th>GyroZ</th>\n",
       "      <th>AccX.1</th>\n",
       "      <th>AccY.1</th>\n",
       "      <th>AccZ.1</th>\n",
       "      <th>GyroX.1</th>\n",
       "      <th>...</th>\n",
       "      <th>GyroY.58</th>\n",
       "      <th>GyroZ.58</th>\n",
       "      <th>AccX.59</th>\n",
       "      <th>AccY.59</th>\n",
       "      <th>AccZ.59</th>\n",
       "      <th>GyroX.59</th>\n",
       "      <th>GyroY.59</th>\n",
       "      <th>GyroZ.59</th>\n",
       "      <th>Label</th>\n",
       "      <th>Activity</th>\n",
       "    </tr>\n",
       "  </thead>\n",
       "  <tbody>\n",
       "    <tr>\n",
       "      <th>0</th>\n",
       "      <td>9.935937</td>\n",
       "      <td>0.833182</td>\n",
       "      <td>0.921768</td>\n",
       "      <td>-0.231822</td>\n",
       "      <td>0.010658</td>\n",
       "      <td>-0.083936</td>\n",
       "      <td>9.957485</td>\n",
       "      <td>0.545878</td>\n",
       "      <td>1.005565</td>\n",
       "      <td>-0.148420</td>\n",
       "      <td>...</td>\n",
       "      <td>-0.569963</td>\n",
       "      <td>-0.347201</td>\n",
       "      <td>10.967838</td>\n",
       "      <td>1.735796</td>\n",
       "      <td>1.154005</td>\n",
       "      <td>-0.148420</td>\n",
       "      <td>-0.174799</td>\n",
       "      <td>-0.406355</td>\n",
       "      <td>0</td>\n",
       "      <td>HIGHKNEES</td>\n",
       "    </tr>\n",
       "    <tr>\n",
       "      <th>1</th>\n",
       "      <td>9.959879</td>\n",
       "      <td>1.094150</td>\n",
       "      <td>0.531513</td>\n",
       "      <td>-0.125770</td>\n",
       "      <td>0.009326</td>\n",
       "      <td>-0.021850</td>\n",
       "      <td>10.005369</td>\n",
       "      <td>1.005565</td>\n",
       "      <td>0.550666</td>\n",
       "      <td>-0.132965</td>\n",
       "      <td>...</td>\n",
       "      <td>-0.285115</td>\n",
       "      <td>-0.134564</td>\n",
       "      <td>10.019734</td>\n",
       "      <td>-0.057461</td>\n",
       "      <td>1.805228</td>\n",
       "      <td>0.401825</td>\n",
       "      <td>-0.360524</td>\n",
       "      <td>-0.114046</td>\n",
       "      <td>0</td>\n",
       "      <td>HIGHKNEES</td>\n",
       "    </tr>\n",
       "    <tr>\n",
       "      <th>2</th>\n",
       "      <td>9.923966</td>\n",
       "      <td>1.201889</td>\n",
       "      <td>0.684742</td>\n",
       "      <td>-0.077541</td>\n",
       "      <td>0.013856</td>\n",
       "      <td>-0.014922</td>\n",
       "      <td>9.933543</td>\n",
       "      <td>1.211466</td>\n",
       "      <td>0.656011</td>\n",
       "      <td>-0.077008</td>\n",
       "      <td>...</td>\n",
       "      <td>-0.306432</td>\n",
       "      <td>-0.176132</td>\n",
       "      <td>9.425972</td>\n",
       "      <td>0.102951</td>\n",
       "      <td>2.750938</td>\n",
       "      <td>-0.151351</td>\n",
       "      <td>-0.197715</td>\n",
       "      <td>-0.225427</td>\n",
       "      <td>0</td>\n",
       "      <td>HIGHKNEES</td>\n",
       "    </tr>\n",
       "    <tr>\n",
       "      <th>3</th>\n",
       "      <td>9.967062</td>\n",
       "      <td>1.067814</td>\n",
       "      <td>0.459687</td>\n",
       "      <td>-0.094328</td>\n",
       "      <td>-0.012790</td>\n",
       "      <td>-0.008260</td>\n",
       "      <td>10.067618</td>\n",
       "      <td>1.039083</td>\n",
       "      <td>0.430956</td>\n",
       "      <td>-0.104986</td>\n",
       "      <td>...</td>\n",
       "      <td>-0.051960</td>\n",
       "      <td>-0.225427</td>\n",
       "      <td>9.308656</td>\n",
       "      <td>-0.404620</td>\n",
       "      <td>2.513912</td>\n",
       "      <td>0.024248</td>\n",
       "      <td>-0.356527</td>\n",
       "      <td>-0.209972</td>\n",
       "      <td>0</td>\n",
       "      <td>HIGHKNEES</td>\n",
       "    </tr>\n",
       "    <tr>\n",
       "      <th>4</th>\n",
       "      <td>10.067618</td>\n",
       "      <td>0.802058</td>\n",
       "      <td>0.423774</td>\n",
       "      <td>-0.087400</td>\n",
       "      <td>0.022916</td>\n",
       "      <td>-0.043700</td>\n",
       "      <td>10.022128</td>\n",
       "      <td>0.711078</td>\n",
       "      <td>0.462081</td>\n",
       "      <td>-0.042368</td>\n",
       "      <td>...</td>\n",
       "      <td>-0.062352</td>\n",
       "      <td>-0.259002</td>\n",
       "      <td>10.347740</td>\n",
       "      <td>-0.059855</td>\n",
       "      <td>1.161188</td>\n",
       "      <td>-0.237685</td>\n",
       "      <td>-0.238750</td>\n",
       "      <td>-0.322420</td>\n",
       "      <td>0</td>\n",
       "      <td>HIGHKNEES</td>\n",
       "    </tr>\n",
       "  </tbody>\n",
       "</table>\n",
       "<p>5 rows × 362 columns</p>\n",
       "</div>"
      ],
      "text/plain": [
       "        AccX      AccY      AccZ     GyroX     GyroY     GyroZ     AccX.1  \\\n",
       "0   9.935937  0.833182  0.921768 -0.231822  0.010658 -0.083936   9.957485   \n",
       "1   9.959879  1.094150  0.531513 -0.125770  0.009326 -0.021850  10.005369   \n",
       "2   9.923966  1.201889  0.684742 -0.077541  0.013856 -0.014922   9.933543   \n",
       "3   9.967062  1.067814  0.459687 -0.094328 -0.012790 -0.008260  10.067618   \n",
       "4  10.067618  0.802058  0.423774 -0.087400  0.022916 -0.043700  10.022128   \n",
       "\n",
       "     AccY.1    AccZ.1   GyroX.1  ...  GyroY.58  GyroZ.58    AccX.59   AccY.59  \\\n",
       "0  0.545878  1.005565 -0.148420  ... -0.569963 -0.347201  10.967838  1.735796   \n",
       "1  1.005565  0.550666 -0.132965  ... -0.285115 -0.134564  10.019734 -0.057461   \n",
       "2  1.211466  0.656011 -0.077008  ... -0.306432 -0.176132   9.425972  0.102951   \n",
       "3  1.039083  0.430956 -0.104986  ... -0.051960 -0.225427   9.308656 -0.404620   \n",
       "4  0.711078  0.462081 -0.042368  ... -0.062352 -0.259002  10.347740 -0.059855   \n",
       "\n",
       "    AccZ.59  GyroX.59  GyroY.59  GyroZ.59  Label   Activity  \n",
       "0  1.154005 -0.148420 -0.174799 -0.406355      0  HIGHKNEES  \n",
       "1  1.805228  0.401825 -0.360524 -0.114046      0  HIGHKNEES  \n",
       "2  2.750938 -0.151351 -0.197715 -0.225427      0  HIGHKNEES  \n",
       "3  2.513912  0.024248 -0.356527 -0.209972      0  HIGHKNEES  \n",
       "4  1.161188 -0.237685 -0.238750 -0.322420      0  HIGHKNEES  \n",
       "\n",
       "[5 rows x 362 columns]"
      ]
     },
     "execution_count": 3,
     "metadata": {},
     "output_type": "execute_result"
    }
   ],
   "source": [
    "data.head()"
   ]
  },
  {
   "cell_type": "code",
   "execution_count": 11,
   "id": "d1883cd7-37b8-46bc-b502-748fdfebf54a",
   "metadata": {},
   "outputs": [
    {
     "name": "stdout",
     "output_type": "stream",
     "text": [
      "0       HIGHKNEES\n",
      "1       HIGHKNEES\n",
      "2       HIGHKNEES\n",
      "3       HIGHKNEES\n",
      "4       HIGHKNEES\n",
      "          ...    \n",
      "1995        SQUAT\n",
      "1996        SQUAT\n",
      "1997        SQUAT\n",
      "1998        SQUAT\n",
      "1999        SQUAT\n",
      "Name: Activity, Length: 2000, dtype: object\n"
     ]
    }
   ],
   "source": [
    "# Özellikler ve etiketlerin ayrılması\n",
    "X = data.drop(['Label', 'Activity'], axis=1)\n",
    "y = data['Activity']\n",
    "print(y)"
   ]
  },
  {
   "cell_type": "code",
   "execution_count": 10,
   "id": "5e362655-5496-42e8-ac56-f04ce5b814c1",
   "metadata": {},
   "outputs": [
    {
     "name": "stdout",
     "output_type": "stream",
     "text": [
      "[0 0 0 ... 4 4 4]\n"
     ]
    }
   ],
   "source": [
    "# Etiketleri sayısal değerlere dönüştürme\n",
    "label_encoder = LabelEncoder()\n",
    "y_encoded = label_encoder.fit_transform(y)\n",
    "print(y_encoded)"
   ]
  },
  {
   "cell_type": "code",
   "execution_count": 6,
   "id": "a9d09884-1be8-43dd-8c25-d8e197fce140",
   "metadata": {},
   "outputs": [],
   "source": [
    "# Her sınıf için veriyi bölme\n",
    "X_train_list, X_test_list, y_train_list, y_test_list = [], [], [], []"
   ]
  },
  {
   "cell_type": "code",
   "execution_count": 7,
   "id": "b0a83e21-2027-4672-a7b3-6f2b171c147a",
   "metadata": {},
   "outputs": [],
   "source": [
    "for label in np.unique(y_encoded):\n",
    "    X_label = X[y_encoded == label]\n",
    "    y_label = y_encoded[y_encoded == label]\n",
    "    X_train_label, X_test_label, y_train_label, y_test_label = train_test_split(\n",
    "        X_label, y_label, test_size=0.3, random_state=42)\n",
    "    X_train_list.append(X_train_label)\n",
    "    X_test_list.append(X_test_label)\n",
    "    y_train_list.append(y_train_label)\n",
    "    y_test_list.append(y_test_label)"
   ]
  },
  {
   "cell_type": "code",
   "execution_count": 8,
   "id": "fe41ce2e-a1d4-4851-91ac-3eaee3dcc668",
   "metadata": {},
   "outputs": [],
   "source": [
    "# Eğitim ve test setlerini birleştirme\n",
    "X_train = pd.concat(X_train_list)\n",
    "X_test = pd.concat(X_test_list)\n",
    "y_train = np.concatenate(y_train_list)\n",
    "y_test = np.concatenate(y_test_list)"
   ]
  },
  {
   "cell_type": "code",
   "execution_count": 9,
   "id": "2f25c3ac-06a2-4bcf-b054-ad4196b85d41",
   "metadata": {},
   "outputs": [
    {
     "name": "stdout",
     "output_type": "stream",
     "text": [
      "[[ 1.10545935 -0.42493604  0.20314287 ... -0.92466717 -0.5288893\n",
      "  -0.54172115]\n",
      " [ 1.22299716  0.02896445  0.63932073 ... -0.37064563 -1.23430395\n",
      "  -0.61078678]\n",
      " [-1.11822714 -0.89821851  0.11293823 ... -0.09171683 -0.79292895\n",
      "   2.41059087]\n",
      " ...\n",
      " [ 1.29288438  0.69336295 -0.2425813  ... -0.97343876  0.0826389\n",
      "  -0.49502694]\n",
      " [-1.11822714 -0.89821851  0.11293823 ...  0.51450118 -0.6802858\n",
      "   2.24708316]\n",
      " [ 0.75761126  1.02646354 -0.82713158 ... -0.38557844  0.57635683\n",
      "  -0.49518182]]\n"
     ]
    }
   ],
   "source": [
    "# Veriyi ölçeklendirme\n",
    "scaler = StandardScaler()\n",
    "X_train_scaled = scaler.fit_transform(X_train)\n",
    "print(X_train_scaled)\n",
    "X_test_scaled = scaler.transform(X_test)"
   ]
  },
  {
   "cell_type": "code",
   "execution_count": 12,
   "id": "04a7ab21-1832-4370-be86-b69574a5f142",
   "metadata": {},
   "outputs": [],
   "source": [
    "# Keras Sequential modelini oluşturma\n",
    "model = Sequential()\n",
    "model.add(Input(shape=(X_train.shape[1],)))\n",
    "model.add(Dense(128, activation='relu'))\n",
    "model.add(Dense(64, activation='relu'))\n",
    "model.add(Dense(32, activation='relu'))\n",
    "model.add(Dense(16, activation='relu'))\n",
    "model.add(Dense(len(label_encoder.classes_), activation='softmax'))"
   ]
  },
  {
   "cell_type": "code",
   "execution_count": 13,
   "id": "421da00f-92e2-4f2e-8079-de8cec75e4cc",
   "metadata": {},
   "outputs": [],
   "source": [
    "# Modeli derleme\n",
    "model.compile(loss='sparse_categorical_crossentropy', optimizer='adam', metrics=['accuracy'])"
   ]
  },
  {
   "cell_type": "code",
   "execution_count": 14,
   "id": "fd9bb9f0-49c4-43a4-b5f6-928ff78b5857",
   "metadata": {
    "scrolled": true
   },
   "outputs": [
    {
     "name": "stdout",
     "output_type": "stream",
     "text": [
      "Epoch 1/50\n",
      "\u001b[1m35/35\u001b[0m \u001b[32m━━━━━━━━━━━━━━━━━━━━\u001b[0m\u001b[37m\u001b[0m \u001b[1m2s\u001b[0m 9ms/step - accuracy: 0.6459 - loss: 0.9553 - val_accuracy: 0.0071 - val_loss: 1.8757\n",
      "Epoch 2/50\n",
      "\u001b[1m35/35\u001b[0m \u001b[32m━━━━━━━━━━━━━━━━━━━━\u001b[0m\u001b[37m\u001b[0m \u001b[1m0s\u001b[0m 4ms/step - accuracy: 0.9802 - loss: 0.0569 - val_accuracy: 0.9679 - val_loss: 0.1825\n",
      "Epoch 3/50\n",
      "\u001b[1m35/35\u001b[0m \u001b[32m━━━━━━━━━━━━━━━━━━━━\u001b[0m\u001b[37m\u001b[0m \u001b[1m0s\u001b[0m 4ms/step - accuracy: 0.9954 - loss: 0.0144 - val_accuracy: 0.9964 - val_loss: 0.0760\n",
      "Epoch 4/50\n",
      "\u001b[1m35/35\u001b[0m \u001b[32m━━━━━━━━━━━━━━━━━━━━\u001b[0m\u001b[37m\u001b[0m \u001b[1m0s\u001b[0m 4ms/step - accuracy: 1.0000 - loss: 0.0040 - val_accuracy: 0.9821 - val_loss: 0.0693\n",
      "Epoch 5/50\n",
      "\u001b[1m35/35\u001b[0m \u001b[32m━━━━━━━━━━━━━━━━━━━━\u001b[0m\u001b[37m\u001b[0m \u001b[1m0s\u001b[0m 2ms/step - accuracy: 1.0000 - loss: 0.0024 - val_accuracy: 0.9714 - val_loss: 0.0677\n",
      "Epoch 6/50\n",
      "\u001b[1m35/35\u001b[0m \u001b[32m━━━━━━━━━━━━━━━━━━━━\u001b[0m\u001b[37m\u001b[0m \u001b[1m0s\u001b[0m 3ms/step - accuracy: 1.0000 - loss: 0.0012 - val_accuracy: 0.9750 - val_loss: 0.0615\n",
      "Epoch 7/50\n",
      "\u001b[1m35/35\u001b[0m \u001b[32m━━━━━━━━━━━━━━━━━━━━\u001b[0m\u001b[37m\u001b[0m \u001b[1m0s\u001b[0m 3ms/step - accuracy: 1.0000 - loss: 9.6306e-04 - val_accuracy: 0.9786 - val_loss: 0.0539\n",
      "Epoch 8/50\n",
      "\u001b[1m35/35\u001b[0m \u001b[32m━━━━━━━━━━━━━━━━━━━━\u001b[0m\u001b[37m\u001b[0m \u001b[1m0s\u001b[0m 3ms/step - accuracy: 1.0000 - loss: 6.9663e-04 - val_accuracy: 0.9786 - val_loss: 0.0539\n",
      "Epoch 9/50\n",
      "\u001b[1m35/35\u001b[0m \u001b[32m━━━━━━━━━━━━━━━━━━━━\u001b[0m\u001b[37m\u001b[0m \u001b[1m0s\u001b[0m 2ms/step - accuracy: 1.0000 - loss: 5.1031e-04 - val_accuracy: 0.9714 - val_loss: 0.0545\n",
      "Epoch 10/50\n",
      "\u001b[1m35/35\u001b[0m \u001b[32m━━━━━━━━━━━━━━━━━━━━\u001b[0m\u001b[37m\u001b[0m \u001b[1m0s\u001b[0m 2ms/step - accuracy: 1.0000 - loss: 4.6172e-04 - val_accuracy: 0.9893 - val_loss: 0.0442\n",
      "Epoch 11/50\n",
      "\u001b[1m35/35\u001b[0m \u001b[32m━━━━━━━━━━━━━━━━━━━━\u001b[0m\u001b[37m\u001b[0m \u001b[1m0s\u001b[0m 3ms/step - accuracy: 1.0000 - loss: 3.5882e-04 - val_accuracy: 0.9857 - val_loss: 0.0440\n",
      "Epoch 12/50\n",
      "\u001b[1m35/35\u001b[0m \u001b[32m━━━━━━━━━━━━━━━━━━━━\u001b[0m\u001b[37m\u001b[0m \u001b[1m0s\u001b[0m 3ms/step - accuracy: 1.0000 - loss: 3.2459e-04 - val_accuracy: 0.9857 - val_loss: 0.0425\n",
      "Epoch 13/50\n",
      "\u001b[1m35/35\u001b[0m \u001b[32m━━━━━━━━━━━━━━━━━━━━\u001b[0m\u001b[37m\u001b[0m \u001b[1m0s\u001b[0m 2ms/step - accuracy: 1.0000 - loss: 2.7810e-04 - val_accuracy: 0.9857 - val_loss: 0.0410\n",
      "Epoch 14/50\n",
      "\u001b[1m35/35\u001b[0m \u001b[32m━━━━━━━━━━━━━━━━━━━━\u001b[0m\u001b[37m\u001b[0m \u001b[1m0s\u001b[0m 3ms/step - accuracy: 1.0000 - loss: 2.0183e-04 - val_accuracy: 0.9857 - val_loss: 0.0402\n",
      "Epoch 15/50\n",
      "\u001b[1m35/35\u001b[0m \u001b[32m━━━━━━━━━━━━━━━━━━━━\u001b[0m\u001b[37m\u001b[0m \u001b[1m0s\u001b[0m 2ms/step - accuracy: 1.0000 - loss: 2.0048e-04 - val_accuracy: 0.9857 - val_loss: 0.0387\n",
      "Epoch 16/50\n",
      "\u001b[1m35/35\u001b[0m \u001b[32m━━━━━━━━━━━━━━━━━━━━\u001b[0m\u001b[37m\u001b[0m \u001b[1m0s\u001b[0m 2ms/step - accuracy: 1.0000 - loss: 1.5517e-04 - val_accuracy: 0.9821 - val_loss: 0.0396\n",
      "Epoch 17/50\n",
      "\u001b[1m35/35\u001b[0m \u001b[32m━━━━━━━━━━━━━━━━━━━━\u001b[0m\u001b[37m\u001b[0m \u001b[1m0s\u001b[0m 3ms/step - accuracy: 1.0000 - loss: 1.5831e-04 - val_accuracy: 0.9821 - val_loss: 0.0401\n",
      "Epoch 18/50\n",
      "\u001b[1m35/35\u001b[0m \u001b[32m━━━━━━━━━━━━━━━━━━━━\u001b[0m\u001b[37m\u001b[0m \u001b[1m0s\u001b[0m 3ms/step - accuracy: 1.0000 - loss: 1.3560e-04 - val_accuracy: 0.9821 - val_loss: 0.0381\n",
      "Epoch 19/50\n",
      "\u001b[1m35/35\u001b[0m \u001b[32m━━━━━━━━━━━━━━━━━━━━\u001b[0m\u001b[37m\u001b[0m \u001b[1m0s\u001b[0m 2ms/step - accuracy: 1.0000 - loss: 1.1651e-04 - val_accuracy: 0.9821 - val_loss: 0.0382\n",
      "Epoch 20/50\n",
      "\u001b[1m35/35\u001b[0m \u001b[32m━━━━━━━━━━━━━━━━━━━━\u001b[0m\u001b[37m\u001b[0m \u001b[1m0s\u001b[0m 3ms/step - accuracy: 1.0000 - loss: 1.0379e-04 - val_accuracy: 0.9821 - val_loss: 0.0373\n",
      "Epoch 21/50\n",
      "\u001b[1m35/35\u001b[0m \u001b[32m━━━━━━━━━━━━━━━━━━━━\u001b[0m\u001b[37m\u001b[0m \u001b[1m0s\u001b[0m 3ms/step - accuracy: 1.0000 - loss: 9.7270e-05 - val_accuracy: 0.9786 - val_loss: 0.0373\n",
      "Epoch 22/50\n",
      "\u001b[1m35/35\u001b[0m \u001b[32m━━━━━━━━━━━━━━━━━━━━\u001b[0m\u001b[37m\u001b[0m \u001b[1m0s\u001b[0m 2ms/step - accuracy: 1.0000 - loss: 9.2561e-05 - val_accuracy: 0.9786 - val_loss: 0.0363\n",
      "Epoch 23/50\n",
      "\u001b[1m35/35\u001b[0m \u001b[32m━━━━━━━━━━━━━━━━━━━━\u001b[0m\u001b[37m\u001b[0m \u001b[1m0s\u001b[0m 3ms/step - accuracy: 1.0000 - loss: 8.1542e-05 - val_accuracy: 0.9786 - val_loss: 0.0360\n",
      "Epoch 24/50\n",
      "\u001b[1m35/35\u001b[0m \u001b[32m━━━━━━━━━━━━━━━━━━━━\u001b[0m\u001b[37m\u001b[0m \u001b[1m0s\u001b[0m 2ms/step - accuracy: 1.0000 - loss: 7.7999e-05 - val_accuracy: 0.9821 - val_loss: 0.0346\n",
      "Epoch 25/50\n",
      "\u001b[1m35/35\u001b[0m \u001b[32m━━━━━━━━━━━━━━━━━━━━\u001b[0m\u001b[37m\u001b[0m \u001b[1m0s\u001b[0m 2ms/step - accuracy: 1.0000 - loss: 7.4165e-05 - val_accuracy: 0.9821 - val_loss: 0.0338\n",
      "Epoch 26/50\n",
      "\u001b[1m35/35\u001b[0m \u001b[32m━━━━━━━━━━━━━━━━━━━━\u001b[0m\u001b[37m\u001b[0m \u001b[1m0s\u001b[0m 3ms/step - accuracy: 1.0000 - loss: 6.6119e-05 - val_accuracy: 0.9821 - val_loss: 0.0332\n",
      "Epoch 27/50\n",
      "\u001b[1m35/35\u001b[0m \u001b[32m━━━━━━━━━━━━━━━━━━━━\u001b[0m\u001b[37m\u001b[0m \u001b[1m0s\u001b[0m 3ms/step - accuracy: 1.0000 - loss: 5.8162e-05 - val_accuracy: 0.9821 - val_loss: 0.0331\n",
      "Epoch 28/50\n",
      "\u001b[1m35/35\u001b[0m \u001b[32m━━━━━━━━━━━━━━━━━━━━\u001b[0m\u001b[37m\u001b[0m \u001b[1m0s\u001b[0m 2ms/step - accuracy: 1.0000 - loss: 5.8102e-05 - val_accuracy: 0.9821 - val_loss: 0.0319\n",
      "Epoch 29/50\n",
      "\u001b[1m35/35\u001b[0m \u001b[32m━━━━━━━━━━━━━━━━━━━━\u001b[0m\u001b[37m\u001b[0m \u001b[1m0s\u001b[0m 3ms/step - accuracy: 1.0000 - loss: 5.4147e-05 - val_accuracy: 0.9821 - val_loss: 0.0319\n",
      "Epoch 30/50\n",
      "\u001b[1m35/35\u001b[0m \u001b[32m━━━━━━━━━━━━━━━━━━━━\u001b[0m\u001b[37m\u001b[0m \u001b[1m0s\u001b[0m 3ms/step - accuracy: 1.0000 - loss: 4.1716e-05 - val_accuracy: 0.9893 - val_loss: 0.0312\n",
      "Epoch 31/50\n",
      "\u001b[1m35/35\u001b[0m \u001b[32m━━━━━━━━━━━━━━━━━━━━\u001b[0m\u001b[37m\u001b[0m \u001b[1m0s\u001b[0m 3ms/step - accuracy: 1.0000 - loss: 4.1631e-05 - val_accuracy: 0.9929 - val_loss: 0.0308\n",
      "Epoch 32/50\n",
      "\u001b[1m35/35\u001b[0m \u001b[32m━━━━━━━━━━━━━━━━━━━━\u001b[0m\u001b[37m\u001b[0m \u001b[1m0s\u001b[0m 3ms/step - accuracy: 1.0000 - loss: 4.4098e-05 - val_accuracy: 0.9929 - val_loss: 0.0303\n",
      "Epoch 33/50\n",
      "\u001b[1m35/35\u001b[0m \u001b[32m━━━━━━━━━━━━━━━━━━━━\u001b[0m\u001b[37m\u001b[0m \u001b[1m0s\u001b[0m 3ms/step - accuracy: 1.0000 - loss: 3.7432e-05 - val_accuracy: 0.9929 - val_loss: 0.0304\n",
      "Epoch 34/50\n",
      "\u001b[1m35/35\u001b[0m \u001b[32m━━━━━━━━━━━━━━━━━━━━\u001b[0m\u001b[37m\u001b[0m \u001b[1m0s\u001b[0m 2ms/step - accuracy: 1.0000 - loss: 3.8110e-05 - val_accuracy: 0.9929 - val_loss: 0.0282\n",
      "Epoch 35/50\n",
      "\u001b[1m35/35\u001b[0m \u001b[32m━━━━━━━━━━━━━━━━━━━━\u001b[0m\u001b[37m\u001b[0m \u001b[1m0s\u001b[0m 3ms/step - accuracy: 1.0000 - loss: 3.8453e-05 - val_accuracy: 0.9929 - val_loss: 0.0282\n",
      "Epoch 36/50\n",
      "\u001b[1m35/35\u001b[0m \u001b[32m━━━━━━━━━━━━━━━━━━━━\u001b[0m\u001b[37m\u001b[0m \u001b[1m0s\u001b[0m 3ms/step - accuracy: 1.0000 - loss: 3.2269e-05 - val_accuracy: 0.9929 - val_loss: 0.0285\n",
      "Epoch 37/50\n",
      "\u001b[1m35/35\u001b[0m \u001b[32m━━━━━━━━━━━━━━━━━━━━\u001b[0m\u001b[37m\u001b[0m \u001b[1m0s\u001b[0m 3ms/step - accuracy: 1.0000 - loss: 2.8970e-05 - val_accuracy: 0.9929 - val_loss: 0.0277\n",
      "Epoch 38/50\n",
      "\u001b[1m35/35\u001b[0m \u001b[32m━━━━━━━━━━━━━━━━━━━━\u001b[0m\u001b[37m\u001b[0m \u001b[1m0s\u001b[0m 2ms/step - accuracy: 1.0000 - loss: 3.1962e-05 - val_accuracy: 0.9929 - val_loss: 0.0276\n",
      "Epoch 39/50\n",
      "\u001b[1m35/35\u001b[0m \u001b[32m━━━━━━━━━━━━━━━━━━━━\u001b[0m\u001b[37m\u001b[0m \u001b[1m0s\u001b[0m 3ms/step - accuracy: 1.0000 - loss: 2.6312e-05 - val_accuracy: 0.9929 - val_loss: 0.0279\n",
      "Epoch 40/50\n",
      "\u001b[1m35/35\u001b[0m \u001b[32m━━━━━━━━━━━━━━━━━━━━\u001b[0m\u001b[37m\u001b[0m \u001b[1m0s\u001b[0m 2ms/step - accuracy: 1.0000 - loss: 2.8340e-05 - val_accuracy: 0.9929 - val_loss: 0.0261\n",
      "Epoch 41/50\n",
      "\u001b[1m35/35\u001b[0m \u001b[32m━━━━━━━━━━━━━━━━━━━━\u001b[0m\u001b[37m\u001b[0m \u001b[1m0s\u001b[0m 2ms/step - accuracy: 1.0000 - loss: 2.4974e-05 - val_accuracy: 0.9929 - val_loss: 0.0260\n",
      "Epoch 42/50\n",
      "\u001b[1m35/35\u001b[0m \u001b[32m━━━━━━━━━━━━━━━━━━━━\u001b[0m\u001b[37m\u001b[0m \u001b[1m0s\u001b[0m 2ms/step - accuracy: 1.0000 - loss: 2.4611e-05 - val_accuracy: 0.9929 - val_loss: 0.0259\n",
      "Epoch 43/50\n",
      "\u001b[1m35/35\u001b[0m \u001b[32m━━━━━━━━━━━━━━━━━━━━\u001b[0m\u001b[37m\u001b[0m \u001b[1m0s\u001b[0m 2ms/step - accuracy: 1.0000 - loss: 2.2149e-05 - val_accuracy: 0.9929 - val_loss: 0.0258\n",
      "Epoch 44/50\n",
      "\u001b[1m35/35\u001b[0m \u001b[32m━━━━━━━━━━━━━━━━━━━━\u001b[0m\u001b[37m\u001b[0m \u001b[1m0s\u001b[0m 2ms/step - accuracy: 1.0000 - loss: 2.1653e-05 - val_accuracy: 0.9929 - val_loss: 0.0255\n",
      "Epoch 45/50\n",
      "\u001b[1m35/35\u001b[0m \u001b[32m━━━━━━━━━━━━━━━━━━━━\u001b[0m\u001b[37m\u001b[0m \u001b[1m0s\u001b[0m 2ms/step - accuracy: 1.0000 - loss: 2.0153e-05 - val_accuracy: 0.9929 - val_loss: 0.0248\n",
      "Epoch 46/50\n",
      "\u001b[1m35/35\u001b[0m \u001b[32m━━━━━━━━━━━━━━━━━━━━\u001b[0m\u001b[37m\u001b[0m \u001b[1m0s\u001b[0m 2ms/step - accuracy: 1.0000 - loss: 1.8168e-05 - val_accuracy: 0.9929 - val_loss: 0.0252\n",
      "Epoch 47/50\n",
      "\u001b[1m35/35\u001b[0m \u001b[32m━━━━━━━━━━━━━━━━━━━━\u001b[0m\u001b[37m\u001b[0m \u001b[1m0s\u001b[0m 2ms/step - accuracy: 1.0000 - loss: 1.9387e-05 - val_accuracy: 0.9929 - val_loss: 0.0243\n",
      "Epoch 48/50\n",
      "\u001b[1m35/35\u001b[0m \u001b[32m━━━━━━━━━━━━━━━━━━━━\u001b[0m\u001b[37m\u001b[0m \u001b[1m0s\u001b[0m 2ms/step - accuracy: 1.0000 - loss: 1.6474e-05 - val_accuracy: 0.9929 - val_loss: 0.0238\n",
      "Epoch 49/50\n",
      "\u001b[1m35/35\u001b[0m \u001b[32m━━━━━━━━━━━━━━━━━━━━\u001b[0m\u001b[37m\u001b[0m \u001b[1m0s\u001b[0m 2ms/step - accuracy: 1.0000 - loss: 1.7673e-05 - val_accuracy: 0.9929 - val_loss: 0.0237\n",
      "Epoch 50/50\n",
      "\u001b[1m35/35\u001b[0m \u001b[32m━━━━━━━━━━━━━━━━━━━━\u001b[0m\u001b[37m\u001b[0m \u001b[1m0s\u001b[0m 2ms/step - accuracy: 1.0000 - loss: 1.5845e-05 - val_accuracy: 0.9929 - val_loss: 0.0236\n"
     ]
    },
    {
     "data": {
      "text/plain": [
       "<keras.src.callbacks.history.History at 0x19334a04f20>"
      ]
     },
     "execution_count": 14,
     "metadata": {},
     "output_type": "execute_result"
    }
   ],
   "source": [
    "# Modeli eğitme\n",
    "model.fit(X_train_scaled, y_train, epochs=50, batch_size=32, validation_split=0.2)"
   ]
  },
  {
   "cell_type": "code",
   "execution_count": 15,
   "id": "af587d61-4a37-46f6-82ee-8a0c2490f5ad",
   "metadata": {},
   "outputs": [
    {
     "name": "stdout",
     "output_type": "stream",
     "text": [
      "\u001b[1m19/19\u001b[0m \u001b[32m━━━━━━━━━━━━━━━━━━━━\u001b[0m\u001b[37m\u001b[0m \u001b[1m0s\u001b[0m 2ms/step - accuracy: 0.9936 - loss: 0.0222     \n",
      "Test Loss: 0.015478485263884068\n",
      "Test Accuracy: 0.9966832399368286\n"
     ]
    }
   ],
   "source": [
    "# Modeli değerlendirme\n",
    "loss, accuracy = model.evaluate(X_test_scaled, y_test)\n",
    "print(f'Test Loss: {loss}')\n",
    "print(f'Test Accuracy: {accuracy}')"
   ]
  },
  {
   "cell_type": "code",
   "execution_count": 16,
   "id": "105cac90-dcf7-472c-9b7c-39bb69cc24ee",
   "metadata": {},
   "outputs": [
    {
     "name": "stdout",
     "output_type": "stream",
     "text": [
      "\u001b[1m19/19\u001b[0m \u001b[32m━━━━━━━━━━━━━━━━━━━━\u001b[0m\u001b[37m\u001b[0m \u001b[1m0s\u001b[0m 4ms/step\n"
     ]
    }
   ],
   "source": [
    "# Tahminleri yapma\n",
    "y_pred = np.argmax(model.predict(X_test_scaled), axis=1)"
   ]
  },
  {
   "cell_type": "code",
   "execution_count": 15,
   "id": "4b3e117c-631b-4074-b9fb-4139342875e8",
   "metadata": {},
   "outputs": [
    {
     "name": "stdout",
     "output_type": "stream",
     "text": [
      "Classification Report:\n",
      "               precision    recall  f1-score   support\n",
      "\n",
      "   HIGHKNEES       0.99      1.00      1.00       104\n",
      " JUMPINGJACK       1.00      0.99      1.00       128\n",
      "      PUSHUP       1.00      1.00      1.00       123\n",
      "       SITUP       1.00      1.00      1.00       123\n",
      "       SQUAT       1.00      1.00      1.00       125\n",
      "\n",
      "    accuracy                           1.00       603\n",
      "   macro avg       1.00      1.00      1.00       603\n",
      "weighted avg       1.00      1.00      1.00       603\n",
      "\n"
     ]
    }
   ],
   "source": [
    "# Sınıflandırma raporunu yazdırma\n",
    "report = classification_report(y_test, y_pred, target_names=label_encoder.classes_)\n",
    "print(\"Classification Report:\\n\", report)"
   ]
  },
  {
   "cell_type": "code",
   "execution_count": 16,
   "id": "b02be0a5-1723-446b-bbf9-8e19da9a5c66",
   "metadata": {},
   "outputs": [
    {
     "name": "stdout",
     "output_type": "stream",
     "text": [
      "Model saved to C:/Users/Asus-Pc/Desktop/HAR Updates/HAR_Data/har_model.keras\n"
     ]
    }
   ],
   "source": [
    "# Modeli kaydetme (sadece model mimarisini)\n",
    "model.save('C:/Users/musta/OneDrive/Masaüstü/HAR Updates/HAR_Data/har_model.keras')\n",
    "print(\"Model saved to C:/Users/Asus-Pc/Desktop/HAR Updates/HAR_Data/har_model.keras\")"
   ]
  },
  {
   "cell_type": "code",
   "execution_count": 17,
   "id": "61c12a2d-f22d-4149-9ead-78c29f7c7e4b",
   "metadata": {},
   "outputs": [
    {
     "name": "stdout",
     "output_type": "stream",
     "text": [
      "Model weights saved to C:/Users/Asus-Pc/Desktop/HAR Updates/HAR_Data/har_model_weights.weights.h5\n"
     ]
    }
   ],
   "source": [
    "# Ağırlıkları kaydetme\n",
    "model.save_weights('C:/Users/musta/OneDrive/Masaüstü/HAR Updates/HAR_Data/har_model_weights.weights.h5')\n",
    "print(\"Model weights saved to C:/Users/Asus-Pc/Desktop/HAR Updates/HAR_Data/har_model_weights.weights.h5\")"
   ]
  },
  {
   "cell_type": "code",
   "execution_count": 18,
   "id": "8cda5104-0faf-4759-9372-762e7ffe046b",
   "metadata": {},
   "outputs": [
    {
     "name": "stdout",
     "output_type": "stream",
     "text": [
      "Label encoder saved to C:/Users/Asus-Pc/Desktop/HAR Updates/HAR_Data/label_encoder.pkl\n"
     ]
    }
   ],
   "source": [
    "# Label encoder kaydetme\n",
    "joblib.dump(label_encoder, 'C:/Users/musta/OneDrive/Masaüstü/HAR Updates/HAR_Data/label_encoder.pkl')\n",
    "print(\"Label encoder saved to C:/Users/Asus-Pc/Desktop/HAR Updates/HAR_Data/label_encoder.pkl\")"
   ]
  },
  {
   "cell_type": "code",
   "execution_count": 19,
   "id": "f96d29d3-f5c9-4a88-a6ca-b02c22a26573",
   "metadata": {},
   "outputs": [
    {
     "name": "stdout",
     "output_type": "stream",
     "text": [
      "Scaler saved to C:/Users/Asus-Pc/Desktop/HAR Updates/HAR_Data/scaler.pkl\n"
     ]
    }
   ],
   "source": [
    "# Scaler'ı kaydetme\n",
    "joblib.dump(scaler, 'C:/Users/musta/OneDrive/Masaüstü/HAR Updates/HAR_Data/scaler.pkl')\n",
    "print(\"Scaler saved to C:/Users/Asus-Pc/Desktop/HAR Updates/HAR_Data/scaler.pkl\")"
   ]
  },
  {
   "cell_type": "code",
   "execution_count": 20,
   "id": "a98c8bab-d728-4d75-8eb7-dc81250e4cbc",
   "metadata": {},
   "outputs": [
    {
     "name": "stdout",
     "output_type": "stream",
     "text": [
      "Test data saved to C:/Users/Asus-Pc/Desktop/HAR Updates/HAR_Data/test_data.csv\n"
     ]
    }
   ],
   "source": [
    "# Test verilerini kaydetme\n",
    "test_data = pd.DataFrame(X_test)\n",
    "test_data['Activity'] = y_test\n",
    "test_data.to_csv('C:/Users/musta/OneDrive/Masaüstü/HAR Updates/HAR_Data/test_data.csv', index=False)\n",
    "print(\"Test data saved to C:/Users/Asus-Pc/Desktop/HAR Updates/HAR_Data/test_data.csv\")"
   ]
  },
  {
   "cell_type": "code",
   "execution_count": null,
   "id": "987ab76e-8146-47cd-816e-89f734cb35ed",
   "metadata": {},
   "outputs": [],
   "source": []
  }
 ],
 "metadata": {
  "kernelspec": {
   "display_name": "Python 3 (ipykernel)",
   "language": "python",
   "name": "python3"
  },
  "language_info": {
   "codemirror_mode": {
    "name": "ipython",
    "version": 3
   },
   "file_extension": ".py",
   "mimetype": "text/x-python",
   "name": "python",
   "nbconvert_exporter": "python",
   "pygments_lexer": "ipython3",
   "version": "3.12.3"
  }
 },
 "nbformat": 4,
 "nbformat_minor": 5
}
