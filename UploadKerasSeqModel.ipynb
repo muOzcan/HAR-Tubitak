{
 "cells": [
  {
   "cell_type": "code",
   "execution_count": 1,
   "id": "48b34c98-8b77-4d1d-ae70-b47a42b93116",
   "metadata": {},
   "outputs": [],
   "source": [
    "import pandas as pd\n",
    "import tensorflow as tf\n",
    "from sklearn.preprocessing import LabelEncoder, StandardScaler\n",
    "from sklearn.model_selection import train_test_split\n",
    "from keras.models import Sequential\n",
    "from keras.layers import Dense, Input\n",
    "from sklearn.metrics import classification_report, confusion_matrix\n",
    "import numpy as np\n",
    "import csv\n",
    "import joblib"
   ]
  },
  {
   "cell_type": "code",
   "execution_count": 2,
   "id": "f0c50df3-c2c0-4e8e-ae8c-7b10bef18f8f",
   "metadata": {},
   "outputs": [],
   "source": [
    "# Modeli yükleme\n",
    "model = tf.keras.models.load_model('C:/Users/musta/OneDrive/Masaüstü/HAR Updates/HAR_Data/har_model.keras')"
   ]
  },
  {
   "cell_type": "code",
   "execution_count": 3,
   "id": "1d651ab2-c2a2-4808-87e2-18aad13eeabe",
   "metadata": {},
   "outputs": [],
   "source": [
    "# Ağırlıkları yükleme\n",
    "model.load_weights('C:/Users/musta/OneDrive/Masaüstü/HAR Updates/HAR_Data/har_model_weights.weights.h5')"
   ]
  },
  {
   "cell_type": "code",
   "execution_count": 4,
   "id": "c54cb1a1-fe66-41fc-9f32-95755faaca24",
   "metadata": {},
   "outputs": [],
   "source": [
    "# Label encoder ve scaler'ı yükleme\n",
    "label_encoder = joblib.load('C:/Users/musta/OneDrive/Masaüstü/HAR Updates/HAR_Data/label_encoder.pkl')\n",
    "scaler = joblib.load('C:/Users/musta/OneDrive/Masaüstü/HAR Updates/HAR_Data/scaler.pkl')"
   ]
  },
  {
   "cell_type": "code",
   "execution_count": 5,
   "id": "133977b3-cf6d-4c9b-b75a-d349e47c44a5",
   "metadata": {},
   "outputs": [],
   "source": [
    "# Test verilerini yükleme\n",
    "test_data = pd.read_csv('C:/Users/musta/OneDrive/Masaüstü/HAR Updates/HAR_Data/test_data.csv')\n",
    "X_test = test_data.drop('Activity', axis=1)\n",
    "y_test = test_data['Activity']"
   ]
  },
  {
   "cell_type": "code",
   "execution_count": 6,
   "id": "190eff68-553b-4a77-9486-05267eadeddc",
   "metadata": {},
   "outputs": [],
   "source": [
    "# Veriyi ölçeklendirme\n",
    "X_test_scaled = scaler.transform(X_test)"
   ]
  },
  {
   "cell_type": "code",
   "execution_count": 7,
   "id": "caec7624-0324-4704-8698-560c47526191",
   "metadata": {},
   "outputs": [
    {
     "name": "stdout",
     "output_type": "stream",
     "text": [
      "\u001b[1m19/19\u001b[0m \u001b[32m━━━━━━━━━━━━━━━━━━━━\u001b[0m\u001b[37m\u001b[0m \u001b[1m0s\u001b[0m 4ms/step\n"
     ]
    }
   ],
   "source": [
    "# Tahminleri yapma\n",
    "y_pred = np.argmax(model.predict(X_test_scaled), axis=1)"
   ]
  },
  {
   "cell_type": "code",
   "execution_count": 8,
   "id": "7e090429-8eb5-426c-9eb4-cd09960cc0b3",
   "metadata": {},
   "outputs": [],
   "source": [
    "# Sonuçları yazdırma\n",
    "from sklearn.metrics import classification_report"
   ]
  },
  {
   "cell_type": "code",
   "execution_count": 9,
   "id": "b09cef78-ff73-4b14-9278-e997f95ec335",
   "metadata": {},
   "outputs": [
    {
     "name": "stdout",
     "output_type": "stream",
     "text": [
      "Classification Report:\n",
      "               precision    recall  f1-score   support\n",
      "\n",
      "   HIGHKNEES       0.99      1.00      1.00       104\n",
      " JUMPINGJACK       1.00      0.99      1.00       128\n",
      "      PUSHUP       1.00      1.00      1.00       123\n",
      "       SITUP       1.00      1.00      1.00       123\n",
      "       SQUAT       1.00      1.00      1.00       125\n",
      "\n",
      "    accuracy                           1.00       603\n",
      "   macro avg       1.00      1.00      1.00       603\n",
      "weighted avg       1.00      1.00      1.00       603\n",
      "\n"
     ]
    }
   ],
   "source": [
    "report = classification_report(y_test, y_pred, target_names=label_encoder.classes_)\n",
    "print(\"Classification Report:\\n\", report)"
   ]
  },
  {
   "cell_type": "code",
   "execution_count": 10,
   "id": "da4466a6-8a28-4ce9-89e3-3ecf50b3bf38",
   "metadata": {},
   "outputs": [
    {
     "name": "stdout",
     "output_type": "stream",
     "text": [
      "\u001b[1m19/19\u001b[0m \u001b[32m━━━━━━━━━━━━━━━━━━━━\u001b[0m\u001b[37m\u001b[0m \u001b[1m1s\u001b[0m 2ms/step - accuracy: 0.9976 - loss: 0.0150      \n",
      "Test Loss: 0.012129377573728561\n",
      "Test Accuracy: 0.9983416199684143\n"
     ]
    }
   ],
   "source": [
    "# Modeli değerlendirme\n",
    "loss, accuracy = model.evaluate(X_test_scaled, y_test)\n",
    "print(f'Test Loss: {loss}')\n",
    "print(f'Test Accuracy: {accuracy}')"
   ]
  },
  {
   "cell_type": "code",
   "execution_count": null,
   "id": "46a63d7b-f101-4f8c-b061-25234a36ba7c",
   "metadata": {},
   "outputs": [],
   "source": []
  }
 ],
 "metadata": {
  "kernelspec": {
   "display_name": "Python 3 (ipykernel)",
   "language": "python",
   "name": "python3"
  },
  "language_info": {
   "codemirror_mode": {
    "name": "ipython",
    "version": 3
   },
   "file_extension": ".py",
   "mimetype": "text/x-python",
   "name": "python",
   "nbconvert_exporter": "python",
   "pygments_lexer": "ipython3",
   "version": "3.12.3"
  }
 },
 "nbformat": 4,
 "nbformat_minor": 5
}
